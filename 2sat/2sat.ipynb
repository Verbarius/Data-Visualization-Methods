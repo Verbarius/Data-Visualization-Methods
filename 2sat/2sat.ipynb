{
 "cells": [
  {
   "cell_type": "code",
   "execution_count": 10,
   "metadata": {},
   "outputs": [],
   "source": [
    "import matplotlib.pyplot as plt\n",
    "import matplotlib.patches as patches\n",
    "from copy import deepcopy"
   ]
  },
  {
   "cell_type": "code",
   "execution_count": 2,
   "metadata": {},
   "outputs": [],
   "source": [
    "def parser(file_name):\n",
    "    with open(file_name) as f:\n",
    "        data = f.readlines()\n",
    "    boxes = {}\n",
    "    for i in range(len(data)):\n",
    "        line = data[i].split('\\t')\n",
    "        pos = list(map(int, line[0].split(',')))\n",
    "        size = list(map(int, line[1].split(',')))\n",
    "        locations = []\n",
    "        for loc in line[2].split(' '):\n",
    "            locations.append(list(map(int, loc.split(','))))\n",
    "        boxes[str(i)] = {'pos' : pos, 'size': size, 'locations' : locations}\n",
    "    return boxes"
   ]
  },
  {
   "cell_type": "code",
   "execution_count": 3,
   "metadata": {},
   "outputs": [],
   "source": [
    "# смотрим, не вылезают ли прямоугольники за границу 500*500\n",
    "# если нет, то смещение заменяем нижним левым углом прямоугольника\n",
    "def validation(boxes):\n",
    "    boxes_new = {}\n",
    "    for k, v in boxes.items():\n",
    "        locations_new = []\n",
    "        for loc in v['locations']:\n",
    "            x_new = v['pos'][0] - loc[0]\n",
    "            y_new = v['pos'][1] - loc[1]\n",
    "            if (x_new + v['size'][0] <= 500) and (x_new >= 0) and (y_new + v['size'][1] <= 500) and (y_new >= 0):\n",
    "                locations_new.append([x_new, y_new])\n",
    "        if len(locations_new) == 1:\n",
    "            locations_new += locations_new\n",
    "        if len(locations_new) == 0:\n",
    "            return None\n",
    "        else:\n",
    "            boxes_new[k] = {'pos' : v['pos'], 'size': v['size'], 'locations' : locations_new}\n",
    "    return boxes_new"
   ]
  },
  {
   "cell_type": "code",
   "execution_count": 4,
   "metadata": {},
   "outputs": [],
   "source": [
    "# факт пересечения двух прямоугольников\n",
    "def cross(rec1, rec2, size1, size2):\n",
    "    if (rec1[0] > rec2[0] + size2[0] or rec2[0] > rec1[0] + size1[0]):\n",
    "        return False\n",
    "    if (rec1[1] > rec2[1] + size2[1] or rec2[1] > rec1[1] + size1[1]):\n",
    "        return False\n",
    "    return True\n",
    "            "
   ]
  },
  {
   "cell_type": "code",
   "execution_count": 5,
   "metadata": {},
   "outputs": [],
   "source": [
    "# строим граф с имликациями\n",
    "def get_graph(boxes):\n",
    "    graph = {}\n",
    "    for k1, box1 in boxes.items():\n",
    "        graph[k1] = []\n",
    "        graph['x' + k1] = []\n",
    "        for k2, box2 in boxes.items():\n",
    "            if k1 != k2:\n",
    "                for i in range(len(box1['locations'])):\n",
    "                    for j in range(len(box2['locations'])):\n",
    "                        if cross(box1['locations'][i], box2['locations'][j], box1['size'], box2['size']):\n",
    "                            if (i == 0) and (j == 0):\n",
    "                                graph['x' + k1].append(k2)\n",
    "                            elif (i == 0) and (j == 1):\n",
    "                                graph['x' + k1].append('x' + k2)\n",
    "                            elif (i == 1) and (j == 0):\n",
    "                                graph[k1].append(k2)\n",
    "                            elif (i == 1) and (j == 1):\n",
    "                                graph[k1].append('x' + k2)\n",
    "    return graph"
   ]
  },
  {
   "cell_type": "code",
   "execution_count": 6,
   "metadata": {},
   "outputs": [],
   "source": [
    "def dfs(ver):\n",
    "    visited[ver] = True\n",
    "    order.append(ver)\n",
    "    for u in graph[ver]:\n",
    "        if not visited[u]:\n",
    "            dfs(u)\n",
    "def dfs_rev(ver, col):\n",
    "    comp[ver] = col\n",
    "    for u in tgraph[ver]:\n",
    "        if comp[u] == -1:\n",
    "            dfs_rev(u, col)"
   ]
  },
  {
   "cell_type": "markdown",
   "metadata": {},
   "source": [
    "### здесь считывается файл"
   ]
  },
  {
   "cell_type": "code",
   "execution_count": 7,
   "metadata": {},
   "outputs": [],
   "source": [
    "boxes_ = parser('bin1.txt')\n",
    "boxes = validation(boxes_)"
   ]
  },
  {
   "cell_type": "code",
   "execution_count": 8,
   "metadata": {},
   "outputs": [],
   "source": [
    "if boxes is None:\n",
    "        print('Расположение недостижимо')\n",
    "else:\n",
    "    graph = get_graph(boxes)\n",
    "    tgraph = {}\n",
    "    for k in graph:\n",
    "        tgraph[k] = []\n",
    "    for k, val in graph.items():\n",
    "        for v in val:\n",
    "            tgraph[v].append(k)\n",
    "    visited = {}\n",
    "    for k in graph:\n",
    "        visited[k] = False\n",
    "    order = []\n",
    "    comp = {}\n",
    "    for k in graph:\n",
    "        comp[k] = -1\n",
    "        \n",
    "    for k in graph.keys():\n",
    "        if not visited[k]:\n",
    "            dfs(k)\n",
    "    col = 0\n",
    "    for i in range(len(graph)):\n",
    "        ver = order[len(graph) - i - 1]\n",
    "        if comp[ver] == -1:\n",
    "            dfs_rev(ver, col)\n",
    "            col += 1\n",
    "    real_flag = 1\n",
    "    for k in boxes:\n",
    "        if comp[k] == comp['x' + k]:\n",
    "            print('Расположение недостижимо')\n",
    "            real_flag = 0\n",
    "            break"
   ]
  },
  {
   "cell_type": "code",
   "execution_count": 9,
   "metadata": {},
   "outputs": [
    {
     "data": {
      "image/png": "[encoded data removed]",
      "text/plain": [
       "<Figure size 720x720 with 1 Axes>"
      ]
     },
     "metadata": {
      "needs_background": "light"
     },
     "output_type": "display_data"
    }
   ],
   "source": [
    "if real_flag:\n",
    "    right_positions = deepcopy(boxes)\n",
    "    for k in right_positions:\n",
    "        if comp[k] >= comp['x' + k]:\n",
    "            right_positions[k]['locations'] = boxes[k]['locations'][1]\n",
    "        else:\n",
    "            right_positions[k]['locations'] = boxes[k]['locations'][0]\n",
    "\n",
    "    max_x = 0\n",
    "    max_y = 0\n",
    "    min_y = 500\n",
    "    min_x = 500\n",
    "    for k, v in right_positions.items():\n",
    "        if v['locations'][0] < min_x:\n",
    "            min_x = v['locations'][0]\n",
    "        if v['locations'][1] < min_y:\n",
    "            min_y = v['locations'][1]\n",
    "        if v['locations'][0] + v['size'][0] > max_x:\n",
    "            max_x = v['locations'][0] + v['size'][0]\n",
    "        if v['locations'][1] + v['size'][1] > max_y:\n",
    "            max_y = v['locations'][1] + v['size'][1]\n",
    "\n",
    "    fig, ax = plt.subplots(figsize=(10, 10))\n",
    "    xpoints = []\n",
    "    ypoints = []\n",
    "    for k, val in right_positions.items():\n",
    "        rect = patches.Rectangle(tuple(val['locations']), val['size'][0], val['size'][1],alpha=0.7)\n",
    "        ax.add_patch(rect)\n",
    "        xpoints.append(val['pos'][0])\n",
    "        ypoints.append(val['pos'][1])\n",
    "    ax.scatter(xpoints, ypoints, color='black', s=10)\n",
    "    plt.xlim(min_x-10, max_x+10)\n",
    "    plt.ylim(min_y-10, max_y+10)\n",
    "    plt.show()\n",
    "else:\n",
    "    print('Расположение недостижимо')"
   ]
  },
  {
   "cell_type": "code",
   "execution_count": null,
   "metadata": {},
   "outputs": [],
   "source": []
  },
  {
   "cell_type": "code",
   "execution_count": null,
   "metadata": {},
   "outputs": [],
   "source": []
  }
 ],
 "metadata": {
  "kernelspec": {
   "display_name": "Python 3",
   "language": "python",
   "name": "python3"
  },
  "language_info": {
   "codemirror_mode": {
    "name": "ipython",
    "version": 3
   },
   "file_extension": ".py",
   "mimetype": "text/x-python",
   "name": "python",
   "nbconvert_exporter": "python",
   "pygments_lexer": "ipython3",
   "version": "3.8.5"
  }
 },
 "nbformat": 4,
 "nbformat_minor": 4
}
